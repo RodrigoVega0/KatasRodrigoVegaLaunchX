{
 "cells": [
  {
   "cell_type": "code",
   "execution_count": 45,
   "metadata": {},
   "outputs": [
    {
     "name": "stdout",
     "output_type": "stream",
     "text": [
      "Un ateroide se dirige a la tierra, Peligro!!!\n"
     ]
    }
   ],
   "source": [
    "vel_asteroide = 49\n",
    "\n",
    "if vel_asteroide > 25:\n",
    "    print(\"Un ateroide se dirige a la tierra, Peligro!!!\")\n",
    "else:\n",
    "    print(\"Relajate humano\")"
   ]
  },
  {
   "cell_type": "code",
   "execution_count": 47,
   "metadata": {},
   "outputs": [
    {
     "name": "stdout",
     "output_type": "stream",
     "text": [
      "No veo una luz en el cielo\n"
     ]
    }
   ],
   "source": [
    "asteroide = 19\n",
    "\n",
    "if asteroide >= 20:\n",
    "    print(\"Puedo ver una luz en el cielo\")\n",
    "elif asteroide == 20:\n",
    "    print(\"Puedo ver una luz en el cielo\")\n",
    "else:\n",
    "    print(\"No veo una luz en el cielo\")\n"
   ]
  },
  {
   "cell_type": "code",
   "execution_count": 66,
   "metadata": {},
   "outputs": [
    {
     "name": "stdout",
     "output_type": "stream",
     "text": [
      "La tierra esta a salvo\n"
     ]
    }
   ],
   "source": [
    "vel_asteroide = 25\n",
    "tamaño = 25\n",
    "\n",
    "if vel_asteroide >= 20 and tamaño < 25:\n",
    "    print(\"Veo una luz en el cielo\")\n",
    "elif vel_asteroide > 25 and tamaño > 25:\n",
    "    print(\"Un peligroso asteroide se dirige a la tierra\")\n",
    "else:\n",
    "    print(\"La tierra esta a salvo\")"
   ]
  }
 ],
 "metadata": {
  "interpreter": {
   "hash": "81501fb6968db567c48e2f6497df9bfcfab897da0876ab26c596c8e980f4fbda"
  },
  "kernelspec": {
   "display_name": "Python 3.9.6 64-bit",
   "language": "python",
   "name": "python3"
  },
  "language_info": {
   "codemirror_mode": {
    "name": "ipython",
    "version": 3
   },
   "file_extension": ".py",
   "mimetype": "text/x-python",
   "name": "python",
   "nbconvert_exporter": "python",
   "pygments_lexer": "ipython3",
   "version": "3.9.6"
  },
  "orig_nbformat": 4
 },
 "nbformat": 4,
 "nbformat_minor": 2
}
