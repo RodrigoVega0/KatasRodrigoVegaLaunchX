{
 "cells": [
  {
   "cell_type": "code",
   "execution_count": 14,
   "metadata": {},
   "outputs": [
    {
     "name": "stdout",
     "output_type": "stream",
     "text": [
      "La distancia entre la tierra y jupiter es de 390577533.93 millas\n",
      "Y la distancia en KM es de 628949330\n"
     ]
    }
   ],
   "source": [
    "tierra = 149597870\n",
    "jupiter = 778547200 \n",
    "\n",
    "# Calcular la distancia entre planetas\n",
    "\n",
    "distancia = jupiter - tierra\n",
    "\n",
    "millas = distancia * 0.621\n",
    "\n",
    "print (\"La distancia entre la tierra y jupiter es de \" + str(millas) + \" millas\")\n",
    "print (\"Y la distancia en KM es de \" + str(distancia))\n"
   ]
  },
  {
   "cell_type": "markdown",
   "metadata": {},
   "source": [
    "# Ejercicio 2: convierte cadenas en números y usa valores absolutosEjercicio 2: convierte cadenas en números y usa valores absolutos"
   ]
  },
  {
   "cell_type": "code",
   "execution_count": 2,
   "metadata": {},
   "outputs": [
    {
     "name": "stdout",
     "output_type": "stream",
     "text": [
      "Hola Rodrigo\n"
     ]
    }
   ],
   "source": [
    "nombre = input(\"nombre\")\n",
    "\n",
    "print(f\"Hola {nombre}\")\n"
   ]
  },
  {
   "cell_type": "markdown",
   "metadata": {},
   "source": [
    "# Planetas del Sistema Solar\n",
    "\n",
    "# Planeta\t   \n",
    "# Mercurio   \n",
    "# Venus\t   \n",
    "# Tierra\t   \n",
    "# Marte\t  \n",
    "# Júpiter\t  \n",
    "# Saturno\t   \n",
    "# Urano\t   \n",
    "# Neptuno     \n"
   ]
  },
  {
   "cell_type": "code",
   "execution_count": 15,
   "metadata": {},
   "outputs": [
    {
     "name": "stdout",
     "output_type": "stream",
     "text": [
      "\n",
      "Elige planeta de la lista:\n",
      "\n",
      "1 = Mercurio \n",
      "2 = Venus\n",
      "3 = Tierra\n",
      "4 = Marte\n",
      "5 = Jupiter\n",
      "6 = Saturno\n",
      "7 = Urano\n",
      "8 = Neptuno\n",
      "\n",
      "Solo puedes elegir el planeta 1 y 2, calculos de los demas planetas en progreso...\n"
     ]
    }
   ],
   "source": [
    "print (\"\"\"\n",
    "Elige planeta de la lista:\n",
    "\n",
    "1 = Mercurio \n",
    "2 = Venus\n",
    "3 = Tierra\n",
    "4 = Marte\n",
    "5 = Jupiter\n",
    "6 = Saturno\n",
    "7 = Urano\n",
    "8 = Neptuno\n",
    "\"\"\")\n",
    "\n",
    "mercurio = 57900000\n",
    "venus = 108200000\n",
    "tierra = 149600000\n",
    "marte = 227900000\n",
    "jupiter = 778600000\n",
    "saturno = 1433500000\n",
    "urano = 2872500000\n",
    "neptuno = 4495100000\n",
    "\n",
    "\n",
    "planeta_uno = input(\"Introduce el primer numero del planeta pára saber su distancia al Sol: \")\n",
    "planeta_dos = input(\"Introduce el segundo numero del planeta pára saber su distancia al Sol: \")\n",
    "\n",
    "planeta_uno = int(planeta_uno)\n",
    "planeta_dos = int(planeta_dos)\n",
    "\n",
    "if planeta_uno == 1  and planeta_dos == 2:\n",
    "    print(\"La distancia de Mercuario al sol es de \" + str(mercurio) + \" KM\")\n",
    "    print(\"Y la distancia de Venus al Sol es de \" + str(venus) + \" KM\")\n",
    "\n",
    "    distancia = venus - mercurio\n",
    "\n",
    "    print(\"La distancia enttre Venus y Mercurio es de \" + str(distancia) + \" KM\")\n",
    "\n",
    "    distancia_millas = distancia * 0.621\n",
    "    print(\"Su distancia en millas es de \" + str(abs(distancia_millas)))\n",
    "else:\n",
    "    print(\"Solo puedes elegir el planeta 1 y 2, calculos de los demas planetas en progreso...\")\n",
    "\n"
   ]
  }
 ],
 "metadata": {
  "interpreter": {
   "hash": "81501fb6968db567c48e2f6497df9bfcfab897da0876ab26c596c8e980f4fbda"
  },
  "kernelspec": {
   "display_name": "Python 3.9.6 64-bit",
   "language": "python",
   "name": "python3"
  },
  "language_info": {
   "codemirror_mode": {
    "name": "ipython",
    "version": 3
   },
   "file_extension": ".py",
   "mimetype": "text/x-python",
   "name": "python",
   "nbconvert_exporter": "python",
   "pygments_lexer": "ipython3",
   "version": "3.9.6"
  },
  "orig_nbformat": 4
 },
 "nbformat": 4,
 "nbformat_minor": 2
}
