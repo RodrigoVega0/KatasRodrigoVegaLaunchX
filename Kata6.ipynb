{
 "cells": [
  {
   "cell_type": "markdown",
   "metadata": {},
   "source": [
    "# Creamos la lista planets y la mostramos"
   ]
  },
  {
   "cell_type": "code",
   "execution_count": 11,
   "metadata": {},
   "outputs": [
    {
     "name": "stdout",
     "output_type": "stream",
     "text": [
      "Hay 8 panetas en el sistema solar\n",
      "['Mercurio', 'Venus', 'Tierra', 'Marte', 'Jupiter', 'Saturno', 'Urano', 'Neptuno', 'Pluton']\n"
     ]
    }
   ],
   "source": [
    "planetas = [\"Mercurio\", \"Venus\", \"Tierra\", \"Marte\", \"Jupiter\", \"Saturno\", \"Urano\", \"Neptuno\"]\n",
    "\n",
    "numero_planetas = len(planetas)\n",
    "\n",
    "print(\"Hay\", numero_planetas, \"panetas en el sistema solar\")\n",
    "\n",
    "planetas.append(\"Pluton\")\n",
    "\n",
    "print(planetas)"
   ]
  },
  {
   "cell_type": "code",
   "execution_count": 19,
   "metadata": {},
   "outputs": [
    {
     "name": "stdout",
     "output_type": "stream",
     "text": [
      "Marte\n",
      "Planetas cerca del sol despues de Marte\n",
      "['Mercurio', 'Venus', 'Tierra']\n",
      "PLanetas lejos del sol despues de Marte\n",
      "['Jupiter', 'Saturno', 'Urano', 'Neptuno']\n"
     ]
    }
   ],
   "source": [
    "planetas = [\"Mercurio\", \"Venus\", \"Tierra\", \"Marte\", \"Jupiter\", \"Saturno\", \"Urano\", \"Neptuno\"]\n",
    "\n",
    "planeta_de_usuario = input(\"Ingresa el nommbre de un planeta iniciando con una letra Mayuscula: \")\n",
    "\n",
    "planeta_index = planetas.index(planeta_de_usuario)\n",
    "\n",
    "print (planeta_de_usuario)\n",
    "\n",
    "print('Planetas cerca del sol despues de ' + planeta_de_usuario)\n",
    "\n",
    "print(planetas[0:planeta_index])\n",
    "\n",
    "print('PLanetas lejos del sol despues de ' + planeta_de_usuario)\n",
    "print(planetas[planeta_index + 1:])"
   ]
  }
 ],
 "metadata": {
  "interpreter": {
   "hash": "81501fb6968db567c48e2f6497df9bfcfab897da0876ab26c596c8e980f4fbda"
  },
  "kernelspec": {
   "display_name": "Python 3.9.6 64-bit",
   "language": "python",
   "name": "python3"
  },
  "language_info": {
   "codemirror_mode": {
    "name": "ipython",
    "version": 3
   },
   "file_extension": ".py",
   "mimetype": "text/x-python",
   "name": "python",
   "nbconvert_exporter": "python",
   "pygments_lexer": "ipython3",
   "version": "3.9.6"
  },
  "orig_nbformat": 4
 },
 "nbformat": 4,
 "nbformat_minor": 2
}
